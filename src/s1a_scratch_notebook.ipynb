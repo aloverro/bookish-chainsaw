{
 "cells": [
  {
   "cell_type": "markdown",
   "metadata": {},
   "source": [
    "# An Examination of the Completeness of Sentinel S1A Collection on Planetary Computer\n",
    "In response "
   ]
  },
  {
   "cell_type": "code",
   "execution_count": 23,
   "metadata": {},
   "outputs": [],
   "source": [
    "import pystac\n",
    "import planetary_computer\n",
    "import rioxarray\n",
    "import requests\n",
    "import xml.etree.ElementTree as ET\n",
    "\n",
    "item_url = \"https://planetarycomputer.microsoft.com/api/stac/v1/collections/sentinel-1-grd/items/S1A_IW_GRDH_1SDV_20240903T142512_20240903T142537_055502_06C59B\"\n",
    "\n"
   ]
  },
  {
   "cell_type": "markdown",
   "metadata": {},
   "source": []
  },
  {
   "cell_type": "code",
   "execution_count": 3,
   "metadata": {},
   "outputs": [],
   "source": [
    "\n",
    "# Load the individual item metadata and sign the assets\n",
    "item = pystac.Item.from_file(item_url)\n",
    "signed_item = planetary_computer.sign(item)\n"
   ]
  },
  {
   "cell_type": "code",
   "execution_count": 27,
   "metadata": {},
   "outputs": [
    {
     "name": "stdout",
     "output_type": "stream",
     "text": [
      "Key                                                Value                                             \n",
      "----------------------------------------------------------------------------------------------------\n",
      "manifest.safe                                      manifest.safe                                     \n",
      "preview/icons/logo.png                             preview/icons/logo.png                            \n",
      "preview/map-overlay.kml                            preview/map-overlay.kml                           \n",
      "preview/product-preview.html                       preview/product-preview.html                      \n",
      "preview/quick-look.png                             preview/quick-look.png                            \n",
      "support/s1-level-1-calibration.xsd                 support/s1-level-1-calibration.xsd                \n",
      "support/s1-level-1-measurement.xsd                 support/s1-level-1-measurement.xsd                \n",
      "support/s1-level-1-noise.xsd                       support/s1-level-1-noise.xsd                      \n",
      "support/s1-level-1-product.xsd                     support/s1-level-1-product.xsd                    \n",
      "support/s1-level-1-quicklook.xsd                   support/s1-level-1-quicklook.xsd                  \n",
      "support/s1-level-1-rfi.xsd                         support/s1-level-1-rfi.xsd                        \n",
      "support/s1-map-overlay.xsd                         support/s1-map-overlay.xsd                        \n",
      "support/s1-object-types.xsd                        support/s1-object-types.xsd                       \n",
      "support/s1-product-preview.xsd                     support/s1-product-preview.xsd                    \n",
      "annotation/s1a-iw-grd-vv-20241212t211455-20241212t211520-056964-06ff7c-001.xml annotation/iw-vv.xml                              \n",
      "annotation/s1a-iw-grd-vh-20241212t211455-20241212t211520-056964-06ff7c-002.xml annotation/iw-vh.xml                              \n",
      "annotation/calibration/calibration-s1a-iw-grd-vv-20241212t211455-20241212t211520-056964-06ff7c-001.xml annotation/calibration/calibration-iw-vv.xml      \n",
      "annotation/calibration/calibration-s1a-iw-grd-vh-20241212t211455-20241212t211520-056964-06ff7c-002.xml annotation/calibration/calibration-iw-vh.xml      \n",
      "annotation/calibration/noise-s1a-iw-grd-vh-20241212t211455-20241212t211520-056964-06ff7c-002.xml annotation/calibration/noise-iw-vh.xml            \n",
      "annotation/calibration/noise-s1a-iw-grd-vv-20241212t211455-20241212t211520-056964-06ff7c-001.xml annotation/calibration/noise-iw-vv.xml            \n",
      "annotation/rfi/rfi-s1a-iw-grd-vv-20241212t211455-20241212t211520-056964-06ff7c-001.xml annotation/rfi/rfi-iw-vv.xml                      \n",
      "annotation/rfi/rfi-s1a-iw-grd-vh-20241212t211455-20241212t211520-056964-06ff7c-002.xml annotation/rfi/rfi-iw-vh.xml                      \n",
      "measurement/s1a-iw-grd-vv-20241212t211455-20241212t211520-056964-06ff7c-001.tiff measurement/iw-vv.tiff                            \n",
      "measurement/s1a-iw-grd-vh-20241212t211455-20241212t211520-056964-06ff7c-002.tiff measurement/iw-vh.tiff                            \n"
     ]
    }
   ],
   "source": [
    "id = 'https://sentinel1euwest.blob.core.windows.net/s1-grd/GRD/2024/12/12/IW/DV/S1A_IW_GRDH_1SDV_20241212T211455_20241212T211520_056964_06FF7C_FFEB'\n",
    "product_info = requests.get(planetary_computer.sign(id + '/productInfo.json')).json()\n",
    "\n",
    "filename_map = product_info.get('filenameMap', {})\n",
    "print(f\"{'Key':<50} {'Value':<50}\")\n",
    "print(\"-\" * 100)\n",
    "for key, value in filename_map.items():\n",
    "    print(f\"{key:<50} {value:<50}\")"
   ]
  },
  {
   "cell_type": "markdown",
   "metadata": {},
   "source": []
  },
  {
   "cell_type": "code",
   "execution_count": 18,
   "metadata": {},
   "outputs": [
    {
     "name": "stdout",
     "output_type": "stream",
     "text": [
      "dict_keys(['vh', 'vv', 'thumbnail', 'safe-manifest', 'schema-noise-vh', 'schema-noise-vv', 'schema-product-vh', 'schema-product-vv', 'schema-calibration-vh', 'schema-calibration-vv', 'tilejson', 'rendered_preview'])\n",
      "Common URL: https://sentinel1euwest.blob.core.windows.net/s1-grd/GRD/2024/9/3/IW/DV/S1A_IW_GRDH_1SDV_20240903T142512_20240903T142537_055502_06C59B_9EC1/\n",
      "Common Suffix: ?st=2025-01-05T16%3A44%3A40Z&se=2025-01-06T17%3A29%3A40Z&sp=rl&sv=2024-05-04&sr=c&skoid=9c8ff44a-6a2c-4dfb-b298-1c9212f64d9a&sktid=72f988bf-86f1-41af-91ab-2d7cd011db47&skt=2025-01-06T16%3A36%3A02Z&ske=2025-01-13T16%3A36%3A02Z&sks=b&skv=2024-05-04&sig=FcngNnAMCs0744cvtXkoQGRzaIKos9oigALYw5FFgCg%3D\n",
      "Asset Name: vh, HREF: measurement/iw-vh.tiff\n",
      "Asset Name: vv, HREF: measurement/iw-vv.tiff\n",
      "Asset Name: thumbnail, HREF: preview/quick-look.png\n",
      "Asset Name: safe-manifest, HREF: manifest.safe\n",
      "Asset Name: schema-noise-vh, HREF: annotation/calibration/noise-iw-vh.xml\n",
      "Asset Name: schema-noise-vv, HREF: annotation/calibration/noise-iw-vv.xml\n",
      "Asset Name: schema-product-vh, HREF: annotation/rfi/rfi-iw-vh.xml\n",
      "Asset Name: schema-product-vv, HREF: annotation/rfi/rfi-iw-vv.xml\n",
      "Asset Name: schema-calibration-vh, HREF: annotation/calibration/calibration-iw-vh.xml\n",
      "Asset Name: schema-calibration-vv, HREF: annotation/calibration/calibration-iw-vv.xml\n",
      "Asset Name: tilejson, HREF: https://planetarycomputer.microsoft.com/api/data/v1/item/tilejson.json?collection=sentinel-1-grd&item=S1A_IW_GRDH_1SDV_20240903T142512_20240903T142537_055502_06C59B&assets=vv&assets=vh&expression=vv%3Bvh%3Bvv%2Fvh&rescale=0%2C600&rescale=0%2C270&rescale=0%2C9&asset_as_band=True&tile_format=png&format=png\n",
      "Asset Name: rendered_preview, HREF: https://planetarycomputer.microsoft.com/api/data/v1/item/preview.png?collection=sentinel-1-grd&item=S1A_IW_GRDH_1SDV_20240903T142512_20240903T142537_055502_06C59B&assets=vv&assets=vh&expression=vv%3Bvh%3Bvv%2Fvh&rescale=0%2C600&rescale=0%2C270&rescale=0%2C9&asset_as_band=True&tile_format=png&format=png\n"
     ]
    }
   ],
   "source": [
    "import os\n",
    "assets = signed_item.assets.keys()\n",
    "print(assets)\n",
    "asset_table = [(asset_key, signed_item.assets[asset_key].href) for asset_key in assets]\n",
    "\n",
    "# Find the common base URL\n",
    "# Filter asset_table to only include 'vh' and 'vv' assets\n",
    "filtered_asset_table = [(asset_key, href) for asset_key, href in asset_table if asset_key in ['vh', 'vv', 'thumbnail']]\n",
    "\n",
    "# Find the common base URL for the filtered assets\n",
    "common_url = os.path.commonprefix([href for _, href in filtered_asset_table])\n",
    "print(f\"Common URL: {common_url}\")\n",
    "\n",
    "# Find the common suffix for the filtered assets\n",
    "common_suffix = os.path.commonprefix([href[::-1] for _, href in filtered_asset_table])[::-1]\n",
    "print(f\"Common Suffix: {common_suffix}\")\n",
    "\n",
    "# Replace the full length HREF with the unique relative URL for each asset\n",
    "asset_table = [(asset_key, href.replace(common_url, '').replace(common_suffix, '')) for asset_key, href in asset_table]\n",
    "\n",
    "\n",
    "\n",
    "for asset_name, href in asset_table:\n",
    "    print(f\"Asset Name: {asset_name}, HREF: {href}\")\n",
    "\n"
   ]
  },
  {
   "cell_type": "code",
   "execution_count": 28,
   "metadata": {},
   "outputs": [
    {
     "name": "stdout",
     "output_type": "stream",
     "text": [
      "Key                                                Value                                             \n",
      "----------------------------------------------------------------------------------------------------\n",
      "manifest.safe                                      manifest.safe                                     \n",
      "preview/icons/logo.png                             preview/icons/logo.png                            \n",
      "preview/map-overlay.kml                            preview/map-overlay.kml                           \n",
      "preview/product-preview.html                       preview/product-preview.html                      \n",
      "preview/quick-look.png                             preview/quick-look.png                            \n",
      "support/s1-level-1-calibration.xsd                 support/s1-level-1-calibration.xsd                \n",
      "support/s1-level-1-measurement.xsd                 support/s1-level-1-measurement.xsd                \n",
      "support/s1-level-1-noise.xsd                       support/s1-level-1-noise.xsd                      \n",
      "support/s1-level-1-product.xsd                     support/s1-level-1-product.xsd                    \n",
      "support/s1-level-1-quicklook.xsd                   support/s1-level-1-quicklook.xsd                  \n",
      "support/s1-level-1-rfi.xsd                         support/s1-level-1-rfi.xsd                        \n",
      "support/s1-map-overlay.xsd                         support/s1-map-overlay.xsd                        \n",
      "support/s1-object-types.xsd                        support/s1-object-types.xsd                       \n",
      "support/s1-product-preview.xsd                     support/s1-product-preview.xsd                    \n",
      "annotation/s1a-iw-grd-vv-20240903t142512-20240903t142537-055502-06c59b-001.xml annotation/iw-vv.xml                              \n",
      "annotation/s1a-iw-grd-vh-20240903t142512-20240903t142537-055502-06c59b-002.xml annotation/iw-vh.xml                              \n",
      "annotation/calibration/calibration-s1a-iw-grd-vv-20240903t142512-20240903t142537-055502-06c59b-001.xml annotation/calibration/calibration-iw-vv.xml      \n",
      "annotation/calibration/calibration-s1a-iw-grd-vh-20240903t142512-20240903t142537-055502-06c59b-002.xml annotation/calibration/calibration-iw-vh.xml      \n",
      "annotation/calibration/noise-s1a-iw-grd-vh-20240903t142512-20240903t142537-055502-06c59b-002.xml annotation/calibration/noise-iw-vh.xml            \n",
      "annotation/calibration/noise-s1a-iw-grd-vv-20240903t142512-20240903t142537-055502-06c59b-001.xml annotation/calibration/noise-iw-vv.xml            \n",
      "annotation/rfi/rfi-s1a-iw-grd-vv-20240903t142512-20240903t142537-055502-06c59b-001.xml annotation/rfi/rfi-iw-vv.xml                      \n",
      "annotation/rfi/rfi-s1a-iw-grd-vh-20240903t142512-20240903t142537-055502-06c59b-002.xml annotation/rfi/rfi-iw-vh.xml                      \n",
      "measurement/s1a-iw-grd-vv-20240903t142512-20240903t142537-055502-06c59b-001.tiff measurement/iw-vv.tiff                            \n",
      "measurement/s1a-iw-grd-vh-20240903t142512-20240903t142537-055502-06c59b-002.tiff measurement/iw-vh.tiff                            \n"
     ]
    }
   ],
   "source": [
    "product_info = requests.get(planetary_computer.sign(common_url + 'productInfo.json')).json()\n",
    "#print(product_info)\n",
    "filename_map = product_info.get('filenameMap', {})\n",
    "print(f\"{'Key':<50} {'Value':<50}\")\n",
    "print(\"-\" * 100)\n",
    "for key, value in filename_map.items():\n",
    "    print(f\"{key:<50} {value:<50}\")"
   ]
  },
  {
   "cell_type": "code",
   "execution_count": 12,
   "metadata": {},
   "outputs": [],
   "source": [
    "\n",
    "\n",
    "# Get the href for the 'safe-manifest' asset\n",
    "safe_manifest_href = signed_item.assets['safe-manifest'].href\n",
    "\n",
    "# Download the XML content\n",
    "response = requests.get(safe_manifest_href)\n",
    "xml_content = response.content\n",
    "\n",
    "# Parse and print the XML content\n",
    "root = ET.fromstring(xml_content)\n",
    "#ET.dump(root)\n"
   ]
  },
  {
   "cell_type": "code",
   "execution_count": 29,
   "metadata": {},
   "outputs": [
    {
     "name": "stdout",
     "output_type": "stream",
     "text": [
      "repID                          href                                                                             size      \n",
      "------------------------------------------------------------------------------------------------------------------------\n",
      "s1Level1ProductSchema          ./annotation/s1a-iw-grd-vh-20240903t142512-20240903t142537-055502-06c59b-002.xml 1758469   \n",
      "s1Level1NoiseSchema            ./annotation/calibration/noise-s1a-iw-grd-vh-20240903t142512-20240903t142537-055502-06c59b-002.xml 426270    \n",
      "s1Level1RfiSchema              ./annotation/rfi/rfi-s1a-iw-grd-vh-20240903t142512-20240903t142537-055502-06c59b-002.xml 43718     \n",
      "s1Level1CalibrationSchema      ./annotation/calibration/calibration-s1a-iw-grd-vh-20240903t142512-20240903t142537-055502-06c59b-002.xml 1014835   \n",
      "s1Level1ProductSchema          ./annotation/s1a-iw-grd-vv-20240903t142512-20240903t142537-055502-06c59b-001.xml 1758492   \n",
      "s1Level1NoiseSchema            ./annotation/calibration/noise-s1a-iw-grd-vv-20240903t142512-20240903t142537-055502-06c59b-001.xml 426270    \n",
      "s1Level1RfiSchema              ./annotation/rfi/rfi-s1a-iw-grd-vv-20240903t142512-20240903t142537-055502-06c59b-001.xml 43722     \n",
      "s1Level1CalibrationSchema      ./annotation/calibration/calibration-s1a-iw-grd-vv-20240903t142512-20240903t142537-055502-06c59b-001.xml 1014835   \n",
      "s1Level1MapOverlaySchema       ./preview/map-overlay.kml                                                        1018      \n",
      "s1Level1ProductPreviewSchema   ./preview/product-preview.html                                                   3673      \n",
      "s1Level1MeasurementSchema      ./measurement/s1a-iw-grd-vh-20240903t142512-20240903t142537-055502-06c59b-002.tiff 450935063 \n",
      "s1Level1MeasurementSchema      ./measurement/s1a-iw-grd-vv-20240903t142512-20240903t142537-055502-06c59b-001.tiff 541646528 \n",
      "s1Level1QuickLookSchema        ./preview/quick-look.png                                                         233056    \n"
     ]
    }
   ],
   "source": [
    "# Extract dataObjectSection\n",
    "data_object_section = root.find(\"dataObjectSection\")\n",
    "\n",
    "# Prepare data for tabular display\n",
    "data_objects = []\n",
    "for data_object in data_object_section.findall(\"dataObject\"):\n",
    "    rep_id = data_object.get(\"repID\")\n",
    "    byte_stream = data_object.find(\"byteStream\")\n",
    "    href = byte_stream.find(\"fileLocation\").get(\"href\")\n",
    "    size = byte_stream.get(\"size\")\n",
    "    data_objects.append((rep_id, href, size))\n",
    "\n",
    "# Print the data in tabular format\n",
    "print(f\"{'repID':<30} {'href':<80} {'size':<10}\")\n",
    "print(\"-\" * 120)\n",
    "for rep_id, href, size in data_objects:\n",
    "    print(f\"{rep_id:<30} {href:<80} {size:<10}\")"
   ]
  },
  {
   "cell_type": "code",
   "execution_count": null,
   "metadata": {},
   "outputs": [],
   "source": []
  },
  {
   "cell_type": "markdown",
   "metadata": {},
   "source": []
  },
  {
   "cell_type": "code",
   "execution_count": 30,
   "metadata": {},
   "outputs": [
    {
     "name": "stdout",
     "output_type": "stream",
     "text": [
      "repID                          href                                                                             size       value                                             \n",
      "--------------------------------------------------------------------------------------------------------------------------------------------------------------------------\n",
      "s1Level1ProductSchema          ./annotation/s1a-iw-grd-vh-20240903t142512-20240903t142537-055502-06c59b-002.xml 1758469    annotation/iw-vh.xml                              \n",
      "s1Level1NoiseSchema            ./annotation/calibration/noise-s1a-iw-grd-vh-20240903t142512-20240903t142537-055502-06c59b-002.xml 426270     annotation/calibration/noise-iw-vh.xml            \n",
      "s1Level1RfiSchema              ./annotation/rfi/rfi-s1a-iw-grd-vh-20240903t142512-20240903t142537-055502-06c59b-002.xml 43718      annotation/rfi/rfi-iw-vh.xml                      \n",
      "s1Level1CalibrationSchema      ./annotation/calibration/calibration-s1a-iw-grd-vh-20240903t142512-20240903t142537-055502-06c59b-002.xml 1014835    annotation/calibration/calibration-iw-vh.xml      \n",
      "s1Level1ProductSchema          ./annotation/s1a-iw-grd-vv-20240903t142512-20240903t142537-055502-06c59b-001.xml 1758492    annotation/iw-vv.xml                              \n",
      "s1Level1NoiseSchema            ./annotation/calibration/noise-s1a-iw-grd-vv-20240903t142512-20240903t142537-055502-06c59b-001.xml 426270     annotation/calibration/noise-iw-vv.xml            \n",
      "s1Level1RfiSchema              ./annotation/rfi/rfi-s1a-iw-grd-vv-20240903t142512-20240903t142537-055502-06c59b-001.xml 43722      annotation/rfi/rfi-iw-vv.xml                      \n",
      "s1Level1CalibrationSchema      ./annotation/calibration/calibration-s1a-iw-grd-vv-20240903t142512-20240903t142537-055502-06c59b-001.xml 1014835    annotation/calibration/calibration-iw-vv.xml      \n",
      "s1Level1MapOverlaySchema       ./preview/map-overlay.kml                                                        1018       preview/map-overlay.kml                           \n",
      "s1Level1ProductPreviewSchema   ./preview/product-preview.html                                                   3673       preview/product-preview.html                      \n",
      "s1Level1MeasurementSchema      ./measurement/s1a-iw-grd-vh-20240903t142512-20240903t142537-055502-06c59b-002.tiff 450935063  measurement/iw-vh.tiff                            \n",
      "s1Level1MeasurementSchema      ./measurement/s1a-iw-grd-vv-20240903t142512-20240903t142537-055502-06c59b-001.tiff 541646528  measurement/iw-vv.tiff                            \n",
      "s1Level1QuickLookSchema        ./preview/quick-look.png                                                         233056     preview/quick-look.png                            \n"
     ]
    }
   ],
   "source": [
    "# Augment the data_objects table with values from the product_info JSON\n",
    "augmented_data_objects = []\n",
    "for rep_id, href, size in data_objects:\n",
    "    key = href.replace('./', '')\n",
    "    value = filename_map.get(key, 'N/A')\n",
    "    augmented_data_objects.append((rep_id, href, size, value))\n",
    "\n",
    "# Print the augmented data in tabular format\n",
    "print(f\"{'repID':<30} {'href':<80} {'size':<10} {'value':<50}\")\n",
    "print(\"-\" * 170)\n",
    "for rep_id, href, size, value in augmented_data_objects:\n",
    "    print(f\"{rep_id:<30} {href:<80} {size:<10} {value:<50}\")"
   ]
  },
  {
   "cell_type": "code",
   "execution_count": 37,
   "metadata": {},
   "outputs": [
    {
     "name": "stdout",
     "output_type": "stream",
     "text": [
      "safe-manifest repID            safe-manifest href                                                                                             filesize   pc href                                            stac item asset\n",
      "---------------------------------------------------------------------------------------------------------------------------------------------------------------------------------------------------------------------------------\n",
      "s1Level1ProductSchema          ./annotation/s1a-iw-grd-vh-20240903t142512-20240903t142537-055502-06c59b-002.xml                               1758469    annotation/iw-vh.xml                               Not Included   \n",
      "s1Level1NoiseSchema            ./annotation/calibration/noise-s1a-iw-grd-vh-20240903t142512-20240903t142537-055502-06c59b-002.xml             426270     annotation/calibration/noise-iw-vh.xml             Included       \n",
      "s1Level1RfiSchema              ./annotation/rfi/rfi-s1a-iw-grd-vh-20240903t142512-20240903t142537-055502-06c59b-002.xml                       43718      annotation/rfi/rfi-iw-vh.xml                       Included       \n",
      "s1Level1CalibrationSchema      ./annotation/calibration/calibration-s1a-iw-grd-vh-20240903t142512-20240903t142537-055502-06c59b-002.xml       1014835    annotation/calibration/calibration-iw-vh.xml       Included       \n",
      "s1Level1ProductSchema          ./annotation/s1a-iw-grd-vv-20240903t142512-20240903t142537-055502-06c59b-001.xml                               1758492    annotation/iw-vv.xml                               Not Included   \n",
      "s1Level1NoiseSchema            ./annotation/calibration/noise-s1a-iw-grd-vv-20240903t142512-20240903t142537-055502-06c59b-001.xml             426270     annotation/calibration/noise-iw-vv.xml             Included       \n",
      "s1Level1RfiSchema              ./annotation/rfi/rfi-s1a-iw-grd-vv-20240903t142512-20240903t142537-055502-06c59b-001.xml                       43722      annotation/rfi/rfi-iw-vv.xml                       Included       \n",
      "s1Level1CalibrationSchema      ./annotation/calibration/calibration-s1a-iw-grd-vv-20240903t142512-20240903t142537-055502-06c59b-001.xml       1014835    annotation/calibration/calibration-iw-vv.xml       Included       \n",
      "s1Level1MapOverlaySchema       ./preview/map-overlay.kml                                                                                      1018       preview/map-overlay.kml                            Not Included   \n",
      "s1Level1ProductPreviewSchema   ./preview/product-preview.html                                                                                 3673       preview/product-preview.html                       Not Included   \n",
      "s1Level1MeasurementSchema      ./measurement/s1a-iw-grd-vh-20240903t142512-20240903t142537-055502-06c59b-002.tiff                             450935063  measurement/iw-vh.tiff                             Included       \n",
      "s1Level1MeasurementSchema      ./measurement/s1a-iw-grd-vv-20240903t142512-20240903t142537-055502-06c59b-001.tiff                             541646528  measurement/iw-vv.tiff                             Included       \n",
      "s1Level1QuickLookSchema        ./preview/quick-look.png                                                                                       233056     preview/quick-look.png                             Included       \n"
     ]
    }
   ],
   "source": [
    "# Create a set of hrefs from the asset_table for quick lookup\n",
    "asset_hrefs = set(href for _, href in asset_table)\n",
    "\n",
    "# Cross-reference and prepare the new table\n",
    "cross_reference_table = []\n",
    "for rep_id, href, size, value in augmented_data_objects:\n",
    "    exists = 'Included' if value in asset_hrefs else 'Not Included'\n",
    "    cross_reference_table.append((rep_id, href, size, value, exists))\n",
    "\n",
    "# Print the cross-referenced table\n",
    "print(f\"{'safe-manifest repID':<30} {'safe-manifest href':<110} {'filesize':<10} {'pc href':<50} {'stac item asset':<15}\")\n",
    "print(\"-\" * 225)\n",
    "for rep_id, href, size, value, exists in cross_reference_table:\n",
    "    print(f\"{rep_id:<30} {href:<110} {size:<10} {value:<50} {exists:<15}\")"
   ]
  },
  {
   "cell_type": "code",
   "execution_count": null,
   "metadata": {},
   "outputs": [],
   "source": [
    "\n",
    "# Open one of the data assets (other asset keys to use: 'vv')\n",
    "asset_href = signed_item.assets[\"vh\"].href\n",
    "ds = rioxarray.open_rasterio(asset_href)\n",
    "ds\n"
   ]
  }
 ],
 "metadata": {
  "kernelspec": {
   "display_name": "Python 3",
   "language": "python",
   "name": "python3"
  },
  "language_info": {
   "codemirror_mode": {
    "name": "ipython",
    "version": 3
   },
   "file_extension": ".py",
   "mimetype": "text/x-python",
   "name": "python",
   "nbconvert_exporter": "python",
   "pygments_lexer": "ipython3",
   "version": "3.12.1"
  }
 },
 "nbformat": 4,
 "nbformat_minor": 2
}
